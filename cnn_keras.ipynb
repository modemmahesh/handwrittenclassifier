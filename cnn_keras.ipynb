{
  "nbformat": 4,
  "nbformat_minor": 0,
  "metadata": {
    "colab": {
      "provenance": [],
      "gpuType": "T4",
      "mount_file_id": "1m37_Nk4VWfW8kEQFUyyT__ZzVQdXTVcn",
      "authorship_tag": "ABX9TyMv0ZrRY4RX7aSc37NxyusY",
      "include_colab_link": true
    },
    "kernelspec": {
      "name": "python3",
      "display_name": "Python 3"
    },
    "language_info": {
      "name": "python"
    },
    "accelerator": "GPU"
  },
  "cells": [
    {
      "cell_type": "markdown",
      "metadata": {
        "id": "view-in-github",
        "colab_type": "text"
      },
      "source": [
        "<a href=\"https://colab.research.google.com/github/modemmahesh/handwrittenclassifier/blob/main/cnn_keras.ipynb\" target=\"_parent\"><img src=\"https://colab.research.google.com/assets/colab-badge.svg\" alt=\"Open In Colab\"/></a>"
      ]
    },
    {
      "cell_type": "markdown",
      "source": [
        "## **Loading the dataset**"
      ],
      "metadata": {
        "id": "oGOKsubnRBrT"
      }
    },
    {
      "cell_type": "code",
      "execution_count": null,
      "metadata": {
        "id": "pLuErijnx4Y9"
      },
      "outputs": [],
      "source": [
        "\n",
        "from tensorflow.keras.datasets import mnist\n",
        "df=mnist\n",
        "(x_train,y_train),(x_test,y_test)=df.load_data()"
      ]
    },
    {
      "cell_type": "markdown",
      "source": [
        "# size of training and testing data"
      ],
      "metadata": {
        "id": "uHZRyb5nRGL-"
      }
    },
    {
      "cell_type": "code",
      "source": [
        "print(x_train.shape)\n",
        "print(x_test.shape)"
      ],
      "metadata": {
        "colab": {
          "base_uri": "https://localhost:8080/"
        },
        "id": "Xcwxrwja0Frw",
        "outputId": "07013874-e18f-4bb9-d993-fed1eee593c9"
      },
      "execution_count": null,
      "outputs": [
        {
          "output_type": "stream",
          "name": "stdout",
          "text": [
            "(60000, 28, 28)\n",
            "(10000, 28, 28)\n"
          ]
        }
      ]
    },
    {
      "cell_type": "code",
      "source": [
        "print(x_train.shape[0])\n",
        "print(x_test.shape[0])"
      ],
      "metadata": {
        "colab": {
          "base_uri": "https://localhost:8080/"
        },
        "id": "-6EMW8Mb28Mu",
        "outputId": "eb293a12-17f9-4083-8d41-db56d10c5e92"
      },
      "execution_count": null,
      "outputs": [
        {
          "output_type": "stream",
          "name": "stdout",
          "text": [
            "60000\n",
            "10000\n"
          ]
        }
      ]
    },
    {
      "cell_type": "code",
      "source": [
        "print(x_train)"
      ],
      "metadata": {
        "colab": {
          "base_uri": "https://localhost:8080/"
        },
        "id": "yKh0DDGC3gzt",
        "outputId": "ffaeca98-7a78-4282-92c5-cbd9c9eeae7a"
      },
      "execution_count": null,
      "outputs": [
        {
          "output_type": "stream",
          "name": "stdout",
          "text": [
            "[[[0 0 0 ... 0 0 0]\n",
            "  [0 0 0 ... 0 0 0]\n",
            "  [0 0 0 ... 0 0 0]\n",
            "  ...\n",
            "  [0 0 0 ... 0 0 0]\n",
            "  [0 0 0 ... 0 0 0]\n",
            "  [0 0 0 ... 0 0 0]]\n",
            "\n",
            " [[0 0 0 ... 0 0 0]\n",
            "  [0 0 0 ... 0 0 0]\n",
            "  [0 0 0 ... 0 0 0]\n",
            "  ...\n",
            "  [0 0 0 ... 0 0 0]\n",
            "  [0 0 0 ... 0 0 0]\n",
            "  [0 0 0 ... 0 0 0]]\n",
            "\n",
            " [[0 0 0 ... 0 0 0]\n",
            "  [0 0 0 ... 0 0 0]\n",
            "  [0 0 0 ... 0 0 0]\n",
            "  ...\n",
            "  [0 0 0 ... 0 0 0]\n",
            "  [0 0 0 ... 0 0 0]\n",
            "  [0 0 0 ... 0 0 0]]\n",
            "\n",
            " ...\n",
            "\n",
            " [[0 0 0 ... 0 0 0]\n",
            "  [0 0 0 ... 0 0 0]\n",
            "  [0 0 0 ... 0 0 0]\n",
            "  ...\n",
            "  [0 0 0 ... 0 0 0]\n",
            "  [0 0 0 ... 0 0 0]\n",
            "  [0 0 0 ... 0 0 0]]\n",
            "\n",
            " [[0 0 0 ... 0 0 0]\n",
            "  [0 0 0 ... 0 0 0]\n",
            "  [0 0 0 ... 0 0 0]\n",
            "  ...\n",
            "  [0 0 0 ... 0 0 0]\n",
            "  [0 0 0 ... 0 0 0]\n",
            "  [0 0 0 ... 0 0 0]]\n",
            "\n",
            " [[0 0 0 ... 0 0 0]\n",
            "  [0 0 0 ... 0 0 0]\n",
            "  [0 0 0 ... 0 0 0]\n",
            "  ...\n",
            "  [0 0 0 ... 0 0 0]\n",
            "  [0 0 0 ... 0 0 0]\n",
            "  [0 0 0 ... 0 0 0]]]\n"
          ]
        }
      ]
    },
    {
      "cell_type": "code",
      "source": [
        "#reshape the image by adding no of channels\n",
        "#RGB means three(3) channels and B&W means only one(1) channel\n",
        "#the images in mnist dataset are stored as black and white which contains only one channel\n"
      ],
      "metadata": {
        "id": "BW-Kt9Fn3wbU"
      },
      "execution_count": null,
      "outputs": []
    },
    {
      "cell_type": "markdown",
      "source": [
        "## **reshaping the data**"
      ],
      "metadata": {
        "id": "6LVU_S90RSAa"
      }
    },
    {
      "cell_type": "code",
      "source": [
        "x_train=x_train.reshape(60000,28,28,1)\n",
        "x_test=x_test.reshape(10000,28,28,1)\n"
      ],
      "metadata": {
        "id": "rqe8mln15Js8"
      },
      "execution_count": null,
      "outputs": []
    },
    {
      "cell_type": "code",
      "source": [
        "print(x_train)"
      ],
      "metadata": {
        "colab": {
          "base_uri": "https://localhost:8080/"
        },
        "id": "tUfVf7LH5k6c",
        "outputId": "726f1d15-9cb8-4021-d409-3eaf172a3bcf"
      },
      "execution_count": null,
      "outputs": [
        {
          "output_type": "stream",
          "name": "stdout",
          "text": [
            "[[[[0]\n",
            "   [0]\n",
            "   [0]\n",
            "   ...\n",
            "   [0]\n",
            "   [0]\n",
            "   [0]]\n",
            "\n",
            "  [[0]\n",
            "   [0]\n",
            "   [0]\n",
            "   ...\n",
            "   [0]\n",
            "   [0]\n",
            "   [0]]\n",
            "\n",
            "  [[0]\n",
            "   [0]\n",
            "   [0]\n",
            "   ...\n",
            "   [0]\n",
            "   [0]\n",
            "   [0]]\n",
            "\n",
            "  ...\n",
            "\n",
            "  [[0]\n",
            "   [0]\n",
            "   [0]\n",
            "   ...\n",
            "   [0]\n",
            "   [0]\n",
            "   [0]]\n",
            "\n",
            "  [[0]\n",
            "   [0]\n",
            "   [0]\n",
            "   ...\n",
            "   [0]\n",
            "   [0]\n",
            "   [0]]\n",
            "\n",
            "  [[0]\n",
            "   [0]\n",
            "   [0]\n",
            "   ...\n",
            "   [0]\n",
            "   [0]\n",
            "   [0]]]\n",
            "\n",
            "\n",
            " [[[0]\n",
            "   [0]\n",
            "   [0]\n",
            "   ...\n",
            "   [0]\n",
            "   [0]\n",
            "   [0]]\n",
            "\n",
            "  [[0]\n",
            "   [0]\n",
            "   [0]\n",
            "   ...\n",
            "   [0]\n",
            "   [0]\n",
            "   [0]]\n",
            "\n",
            "  [[0]\n",
            "   [0]\n",
            "   [0]\n",
            "   ...\n",
            "   [0]\n",
            "   [0]\n",
            "   [0]]\n",
            "\n",
            "  ...\n",
            "\n",
            "  [[0]\n",
            "   [0]\n",
            "   [0]\n",
            "   ...\n",
            "   [0]\n",
            "   [0]\n",
            "   [0]]\n",
            "\n",
            "  [[0]\n",
            "   [0]\n",
            "   [0]\n",
            "   ...\n",
            "   [0]\n",
            "   [0]\n",
            "   [0]]\n",
            "\n",
            "  [[0]\n",
            "   [0]\n",
            "   [0]\n",
            "   ...\n",
            "   [0]\n",
            "   [0]\n",
            "   [0]]]\n",
            "\n",
            "\n",
            " [[[0]\n",
            "   [0]\n",
            "   [0]\n",
            "   ...\n",
            "   [0]\n",
            "   [0]\n",
            "   [0]]\n",
            "\n",
            "  [[0]\n",
            "   [0]\n",
            "   [0]\n",
            "   ...\n",
            "   [0]\n",
            "   [0]\n",
            "   [0]]\n",
            "\n",
            "  [[0]\n",
            "   [0]\n",
            "   [0]\n",
            "   ...\n",
            "   [0]\n",
            "   [0]\n",
            "   [0]]\n",
            "\n",
            "  ...\n",
            "\n",
            "  [[0]\n",
            "   [0]\n",
            "   [0]\n",
            "   ...\n",
            "   [0]\n",
            "   [0]\n",
            "   [0]]\n",
            "\n",
            "  [[0]\n",
            "   [0]\n",
            "   [0]\n",
            "   ...\n",
            "   [0]\n",
            "   [0]\n",
            "   [0]]\n",
            "\n",
            "  [[0]\n",
            "   [0]\n",
            "   [0]\n",
            "   ...\n",
            "   [0]\n",
            "   [0]\n",
            "   [0]]]\n",
            "\n",
            "\n",
            " ...\n",
            "\n",
            "\n",
            " [[[0]\n",
            "   [0]\n",
            "   [0]\n",
            "   ...\n",
            "   [0]\n",
            "   [0]\n",
            "   [0]]\n",
            "\n",
            "  [[0]\n",
            "   [0]\n",
            "   [0]\n",
            "   ...\n",
            "   [0]\n",
            "   [0]\n",
            "   [0]]\n",
            "\n",
            "  [[0]\n",
            "   [0]\n",
            "   [0]\n",
            "   ...\n",
            "   [0]\n",
            "   [0]\n",
            "   [0]]\n",
            "\n",
            "  ...\n",
            "\n",
            "  [[0]\n",
            "   [0]\n",
            "   [0]\n",
            "   ...\n",
            "   [0]\n",
            "   [0]\n",
            "   [0]]\n",
            "\n",
            "  [[0]\n",
            "   [0]\n",
            "   [0]\n",
            "   ...\n",
            "   [0]\n",
            "   [0]\n",
            "   [0]]\n",
            "\n",
            "  [[0]\n",
            "   [0]\n",
            "   [0]\n",
            "   ...\n",
            "   [0]\n",
            "   [0]\n",
            "   [0]]]\n",
            "\n",
            "\n",
            " [[[0]\n",
            "   [0]\n",
            "   [0]\n",
            "   ...\n",
            "   [0]\n",
            "   [0]\n",
            "   [0]]\n",
            "\n",
            "  [[0]\n",
            "   [0]\n",
            "   [0]\n",
            "   ...\n",
            "   [0]\n",
            "   [0]\n",
            "   [0]]\n",
            "\n",
            "  [[0]\n",
            "   [0]\n",
            "   [0]\n",
            "   ...\n",
            "   [0]\n",
            "   [0]\n",
            "   [0]]\n",
            "\n",
            "  ...\n",
            "\n",
            "  [[0]\n",
            "   [0]\n",
            "   [0]\n",
            "   ...\n",
            "   [0]\n",
            "   [0]\n",
            "   [0]]\n",
            "\n",
            "  [[0]\n",
            "   [0]\n",
            "   [0]\n",
            "   ...\n",
            "   [0]\n",
            "   [0]\n",
            "   [0]]\n",
            "\n",
            "  [[0]\n",
            "   [0]\n",
            "   [0]\n",
            "   ...\n",
            "   [0]\n",
            "   [0]\n",
            "   [0]]]\n",
            "\n",
            "\n",
            " [[[0]\n",
            "   [0]\n",
            "   [0]\n",
            "   ...\n",
            "   [0]\n",
            "   [0]\n",
            "   [0]]\n",
            "\n",
            "  [[0]\n",
            "   [0]\n",
            "   [0]\n",
            "   ...\n",
            "   [0]\n",
            "   [0]\n",
            "   [0]]\n",
            "\n",
            "  [[0]\n",
            "   [0]\n",
            "   [0]\n",
            "   ...\n",
            "   [0]\n",
            "   [0]\n",
            "   [0]]\n",
            "\n",
            "  ...\n",
            "\n",
            "  [[0]\n",
            "   [0]\n",
            "   [0]\n",
            "   ...\n",
            "   [0]\n",
            "   [0]\n",
            "   [0]]\n",
            "\n",
            "  [[0]\n",
            "   [0]\n",
            "   [0]\n",
            "   ...\n",
            "   [0]\n",
            "   [0]\n",
            "   [0]]\n",
            "\n",
            "  [[0]\n",
            "   [0]\n",
            "   [0]\n",
            "   ...\n",
            "   [0]\n",
            "   [0]\n",
            "   [0]]]]\n"
          ]
        }
      ]
    },
    {
      "cell_type": "code",
      "source": [
        "print(x_test)"
      ],
      "metadata": {
        "colab": {
          "base_uri": "https://localhost:8080/"
        },
        "id": "BTZt_blW5mUp",
        "outputId": "9c5717e1-d295-41a8-e7aa-f7dc821313c7"
      },
      "execution_count": null,
      "outputs": [
        {
          "output_type": "stream",
          "name": "stdout",
          "text": [
            "[[[[0]\n",
            "   [0]\n",
            "   [0]\n",
            "   ...\n",
            "   [0]\n",
            "   [0]\n",
            "   [0]]\n",
            "\n",
            "  [[0]\n",
            "   [0]\n",
            "   [0]\n",
            "   ...\n",
            "   [0]\n",
            "   [0]\n",
            "   [0]]\n",
            "\n",
            "  [[0]\n",
            "   [0]\n",
            "   [0]\n",
            "   ...\n",
            "   [0]\n",
            "   [0]\n",
            "   [0]]\n",
            "\n",
            "  ...\n",
            "\n",
            "  [[0]\n",
            "   [0]\n",
            "   [0]\n",
            "   ...\n",
            "   [0]\n",
            "   [0]\n",
            "   [0]]\n",
            "\n",
            "  [[0]\n",
            "   [0]\n",
            "   [0]\n",
            "   ...\n",
            "   [0]\n",
            "   [0]\n",
            "   [0]]\n",
            "\n",
            "  [[0]\n",
            "   [0]\n",
            "   [0]\n",
            "   ...\n",
            "   [0]\n",
            "   [0]\n",
            "   [0]]]\n",
            "\n",
            "\n",
            " [[[0]\n",
            "   [0]\n",
            "   [0]\n",
            "   ...\n",
            "   [0]\n",
            "   [0]\n",
            "   [0]]\n",
            "\n",
            "  [[0]\n",
            "   [0]\n",
            "   [0]\n",
            "   ...\n",
            "   [0]\n",
            "   [0]\n",
            "   [0]]\n",
            "\n",
            "  [[0]\n",
            "   [0]\n",
            "   [0]\n",
            "   ...\n",
            "   [0]\n",
            "   [0]\n",
            "   [0]]\n",
            "\n",
            "  ...\n",
            "\n",
            "  [[0]\n",
            "   [0]\n",
            "   [0]\n",
            "   ...\n",
            "   [0]\n",
            "   [0]\n",
            "   [0]]\n",
            "\n",
            "  [[0]\n",
            "   [0]\n",
            "   [0]\n",
            "   ...\n",
            "   [0]\n",
            "   [0]\n",
            "   [0]]\n",
            "\n",
            "  [[0]\n",
            "   [0]\n",
            "   [0]\n",
            "   ...\n",
            "   [0]\n",
            "   [0]\n",
            "   [0]]]\n",
            "\n",
            "\n",
            " [[[0]\n",
            "   [0]\n",
            "   [0]\n",
            "   ...\n",
            "   [0]\n",
            "   [0]\n",
            "   [0]]\n",
            "\n",
            "  [[0]\n",
            "   [0]\n",
            "   [0]\n",
            "   ...\n",
            "   [0]\n",
            "   [0]\n",
            "   [0]]\n",
            "\n",
            "  [[0]\n",
            "   [0]\n",
            "   [0]\n",
            "   ...\n",
            "   [0]\n",
            "   [0]\n",
            "   [0]]\n",
            "\n",
            "  ...\n",
            "\n",
            "  [[0]\n",
            "   [0]\n",
            "   [0]\n",
            "   ...\n",
            "   [0]\n",
            "   [0]\n",
            "   [0]]\n",
            "\n",
            "  [[0]\n",
            "   [0]\n",
            "   [0]\n",
            "   ...\n",
            "   [0]\n",
            "   [0]\n",
            "   [0]]\n",
            "\n",
            "  [[0]\n",
            "   [0]\n",
            "   [0]\n",
            "   ...\n",
            "   [0]\n",
            "   [0]\n",
            "   [0]]]\n",
            "\n",
            "\n",
            " ...\n",
            "\n",
            "\n",
            " [[[0]\n",
            "   [0]\n",
            "   [0]\n",
            "   ...\n",
            "   [0]\n",
            "   [0]\n",
            "   [0]]\n",
            "\n",
            "  [[0]\n",
            "   [0]\n",
            "   [0]\n",
            "   ...\n",
            "   [0]\n",
            "   [0]\n",
            "   [0]]\n",
            "\n",
            "  [[0]\n",
            "   [0]\n",
            "   [0]\n",
            "   ...\n",
            "   [0]\n",
            "   [0]\n",
            "   [0]]\n",
            "\n",
            "  ...\n",
            "\n",
            "  [[0]\n",
            "   [0]\n",
            "   [0]\n",
            "   ...\n",
            "   [0]\n",
            "   [0]\n",
            "   [0]]\n",
            "\n",
            "  [[0]\n",
            "   [0]\n",
            "   [0]\n",
            "   ...\n",
            "   [0]\n",
            "   [0]\n",
            "   [0]]\n",
            "\n",
            "  [[0]\n",
            "   [0]\n",
            "   [0]\n",
            "   ...\n",
            "   [0]\n",
            "   [0]\n",
            "   [0]]]\n",
            "\n",
            "\n",
            " [[[0]\n",
            "   [0]\n",
            "   [0]\n",
            "   ...\n",
            "   [0]\n",
            "   [0]\n",
            "   [0]]\n",
            "\n",
            "  [[0]\n",
            "   [0]\n",
            "   [0]\n",
            "   ...\n",
            "   [0]\n",
            "   [0]\n",
            "   [0]]\n",
            "\n",
            "  [[0]\n",
            "   [0]\n",
            "   [0]\n",
            "   ...\n",
            "   [0]\n",
            "   [0]\n",
            "   [0]]\n",
            "\n",
            "  ...\n",
            "\n",
            "  [[0]\n",
            "   [0]\n",
            "   [0]\n",
            "   ...\n",
            "   [0]\n",
            "   [0]\n",
            "   [0]]\n",
            "\n",
            "  [[0]\n",
            "   [0]\n",
            "   [0]\n",
            "   ...\n",
            "   [0]\n",
            "   [0]\n",
            "   [0]]\n",
            "\n",
            "  [[0]\n",
            "   [0]\n",
            "   [0]\n",
            "   ...\n",
            "   [0]\n",
            "   [0]\n",
            "   [0]]]\n",
            "\n",
            "\n",
            " [[[0]\n",
            "   [0]\n",
            "   [0]\n",
            "   ...\n",
            "   [0]\n",
            "   [0]\n",
            "   [0]]\n",
            "\n",
            "  [[0]\n",
            "   [0]\n",
            "   [0]\n",
            "   ...\n",
            "   [0]\n",
            "   [0]\n",
            "   [0]]\n",
            "\n",
            "  [[0]\n",
            "   [0]\n",
            "   [0]\n",
            "   ...\n",
            "   [0]\n",
            "   [0]\n",
            "   [0]]\n",
            "\n",
            "  ...\n",
            "\n",
            "  [[0]\n",
            "   [0]\n",
            "   [0]\n",
            "   ...\n",
            "   [0]\n",
            "   [0]\n",
            "   [0]]\n",
            "\n",
            "  [[0]\n",
            "   [0]\n",
            "   [0]\n",
            "   ...\n",
            "   [0]\n",
            "   [0]\n",
            "   [0]]\n",
            "\n",
            "  [[0]\n",
            "   [0]\n",
            "   [0]\n",
            "   ...\n",
            "   [0]\n",
            "   [0]\n",
            "   [0]]]]\n"
          ]
        }
      ]
    },
    {
      "cell_type": "code",
      "source": [
        "#the y_train and y_test are used to represent the no of classes in the dataset\n",
        "#In case of mnist dataset we have to convert this y_train and y_test into category variables which is nothing but 10 categories \n",
        "#This can be done by using 'to_catogorical()' method which is available in 'utils' module. \n",
        "'''training {x_train -> 60,000\n",
        "            y_train -> 10}\n",
        "   testing{x_test -> 10,000\n",
        "           y_test -> 10}'''\n",
        "from tensorflow.keras import utils\n"
      ],
      "metadata": {
        "id": "aj6CR8v96BdF"
      },
      "execution_count": null,
      "outputs": []
    },
    {
      "cell_type": "code",
      "source": [
        "y_train=utils.to_categorical(y_train,10)\n",
        "y_test=utils.to_categorical(y_test,10)"
      ],
      "metadata": {
        "id": "9WzYpaMY6ct0"
      },
      "execution_count": null,
      "outputs": []
    },
    {
      "cell_type": "code",
      "source": [
        "print(y_train.shape)"
      ],
      "metadata": {
        "colab": {
          "base_uri": "https://localhost:8080/"
        },
        "id": "lyvV7XCn758l",
        "outputId": "a7251840-3a34-4ec9-8082-94df9820ad8b"
      },
      "execution_count": null,
      "outputs": [
        {
          "output_type": "stream",
          "name": "stdout",
          "text": [
            "(60000, 10)\n"
          ]
        }
      ]
    },
    {
      "cell_type": "code",
      "source": [
        "print(y_test.shape)"
      ],
      "metadata": {
        "colab": {
          "base_uri": "https://localhost:8080/"
        },
        "id": "vC5WlWxR7-d9",
        "outputId": "2a9b91a5-d66d-435b-d6d9-92001d75b5b7"
      },
      "execution_count": null,
      "outputs": [
        {
          "output_type": "stream",
          "name": "stdout",
          "text": [
            "(10000, 10)\n"
          ]
        }
      ]
    },
    {
      "cell_type": "code",
      "source": [
        "import matplotlib.pyplot as plt\n",
        "plt.imshow(x_train[ 100],cmap=\"gray\")"
      ],
      "metadata": {
        "colab": {
          "base_uri": "https://localhost:8080/",
          "height": 447
        },
        "id": "EcrvNchH82C8",
        "outputId": "1aa65159-e6f4-428d-a2e9-f5fba844cc05"
      },
      "execution_count": null,
      "outputs": [
        {
          "output_type": "execute_result",
          "data": {
            "text/plain": [
              "<matplotlib.image.AxesImage at 0x7f4b69b73610>"
            ]
          },
          "metadata": {},
          "execution_count": 14
        },
        {
          "output_type": "display_data",
          "data": {
            "text/plain": [
              "<Figure size 640x480 with 1 Axes>"
            ],
            "image/png": "[encoded data removed]"
          },
          "metadata": {}
        }
      ]
    },
    {
      "cell_type": "code",
      "source": [
        "plt.imshow(x_train[10],cmap=\"gray\")"
      ],
      "metadata": {
        "colab": {
          "base_uri": "https://localhost:8080/",
          "height": 447
        },
        "id": "jRNqHANK9e-c",
        "outputId": "266d30af-8f30-4b88-d2d2-651b704f793e"
      },
      "execution_count": null,
      "outputs": [
        {
          "output_type": "execute_result",
          "data": {
            "text/plain": [
              "<matplotlib.image.AxesImage at 0x7f4b665f3a90>"
            ]
          },
          "metadata": {},
          "execution_count": 15
        },
        {
          "output_type": "display_data",
          "data": {
            "text/plain": [
              "<Figure size 640x480 with 1 Axes>"
            ],
            "image/png": "[encoded data removed]"
          },
          "metadata": {}
        }
      ]
    },
    {
      "cell_type": "code",
      "source": [
        "plt.imshow(x_train[1000],cmap='gray')"
      ],
      "metadata": {
        "colab": {
          "base_uri": "https://localhost:8080/",
          "height": 447
        },
        "id": "snmim-sM-BRT",
        "outputId": "801b5790-ab15-4955-dd20-e875aa11dd15"
      },
      "execution_count": null,
      "outputs": [
        {
          "output_type": "execute_result",
          "data": {
            "text/plain": [
              "<matplotlib.image.AxesImage at 0x7f4b644c9120>"
            ]
          },
          "metadata": {},
          "execution_count": 16
        },
        {
          "output_type": "display_data",
          "data": {
            "text/plain": [
              "<Figure size 640x480 with 1 Axes>"
            ],
            "image/png": "[encoded data removed]"
          },
          "metadata": {}
        }
      ]
    },
    {
      "cell_type": "code",
      "source": [
        "arr1=y_train[100]\n",
        "print(arr1)\n",
        "arr2=y_train[10]\n",
        "print(arr2)\n",
        "arr3=y_train[1000]\n",
        "print(arr3)"
      ],
      "metadata": {
        "colab": {
          "base_uri": "https://localhost:8080/"
        },
        "id": "_34FjIVy_WAM",
        "outputId": "1b61257c-7d47-4a2b-97a2-5e4690baf657"
      },
      "execution_count": null,
      "outputs": [
        {
          "output_type": "stream",
          "name": "stdout",
          "text": [
            "[0. 0. 0. 0. 0. 1. 0. 0. 0. 0.]\n",
            "[0. 0. 0. 1. 0. 0. 0. 0. 0. 0.]\n",
            "[1. 0. 0. 0. 0. 0. 0. 0. 0. 0.]\n"
          ]
        }
      ]
    },
    {
      "cell_type": "code",
      "source": [
        "import numpy as np\n",
        "label1=np.argmax(arr1)\n",
        "label2=np.argmax(arr2)\n",
        "label3=np.argmax(arr3)\n",
        "print(label1)\n",
        "print(label2)\n",
        "print(label3)"
      ],
      "metadata": {
        "colab": {
          "base_uri": "https://localhost:8080/"
        },
        "id": "q8Nw9L29A1RD",
        "outputId": "02025fd8-e255-46b7-cd49-da008a231e7e"
      },
      "execution_count": null,
      "outputs": [
        {
          "output_type": "stream",
          "name": "stdout",
          "text": [
            "5\n",
            "3\n",
            "0\n"
          ]
        }
      ]
    },
    {
      "cell_type": "markdown",
      "source": [
        "## **building the model**"
      ],
      "metadata": {
        "id": "mB4ziRL2kQKK"
      }
    },
    {
      "cell_type": "code",
      "source": [
        "#Building the CNN model\n",
        "\n",
        "from tensorflow.keras.layers import Dense,Dropout,Flatten,Conv2D,MaxPooling2D\n",
        "from tensorflow.keras.models import Sequential\n",
        "model=Sequential()"
      ],
      "metadata": {
        "id": "H4JwdmXtHe1I"
      },
      "execution_count": null,
      "outputs": []
    },
    {
      "cell_type": "code",
      "source": [
        "input_layer=Dense(32,input_shape=(28,28,1))\n",
        "model.add(input_layer)\n"
      ],
      "metadata": {
        "id": "Rl0HgGBKIPok"
      },
      "execution_count": null,
      "outputs": []
    },
    {
      "cell_type": "code",
      "source": [
        "conv_layer1=Conv2D(32,kernel_size=(3,3),activation='relu')\n",
        "model.add(conv_layer1)"
      ],
      "metadata": {
        "id": "VWcM1LCJMfk-"
      },
      "execution_count": null,
      "outputs": []
    },
    {
      "cell_type": "code",
      "source": [
        "conv_layer2=Conv2D(32,kernel_size=(3,3),activation='relu')\n",
        "model.add(conv_layer2)"
      ],
      "metadata": {
        "id": "iwrxyeChMw9F"
      },
      "execution_count": null,
      "outputs": []
    },
    {
      "cell_type": "code",
      "source": [
        "pool_layer=MaxPooling2D(pool_size=(2,2))\n",
        "model.add(pool_layer)"
      ],
      "metadata": {
        "id": "yhXky86RNLeS"
      },
      "execution_count": null,
      "outputs": []
    },
    {
      "cell_type": "code",
      "source": [
        "drop_layer=Dropout(0.5)\n",
        "model.add(drop_layer)"
      ],
      "metadata": {
        "id": "mceUGJo2NTxR"
      },
      "execution_count": null,
      "outputs": []
    },
    {
      "cell_type": "code",
      "source": [
        "flatten_layer=Flatten()\n",
        "model.add(flatten_layer)"
      ],
      "metadata": {
        "id": "g02PANGuNzQg"
      },
      "execution_count": null,
      "outputs": []
    },
    {
      "cell_type": "code",
      "source": [
        "output_layer=Dense(10,activation='softmax')\n",
        "model.add(output_layer)"
      ],
      "metadata": {
        "id": "lVVwD-edOKMM"
      },
      "execution_count": null,
      "outputs": []
    },
    {
      "cell_type": "markdown",
      "source": [],
      "metadata": {
        "id": "7R75-VHMOnvc"
      }
    },
    {
      "cell_type": "code",
      "source": [
        "\n",
        "\n",
        "model.compile(loss='categorical_crossentropy',optimizer='adam',metrics=['accuracy'])"
      ],
      "metadata": {
        "id": "B7R3ALw8PE7A"
      },
      "execution_count": null,
      "outputs": []
    },
    {
      "cell_type": "code",
      "source": [
        "model.summary()"
      ],
      "metadata": {
        "colab": {
          "base_uri": "https://localhost:8080/"
        },
        "id": "c3RQ0c-nPW07",
        "outputId": "d4e2a431-db23-442a-8bb9-225c85315413"
      },
      "execution_count": null,
      "outputs": [
        {
          "output_type": "stream",
          "name": "stdout",
          "text": [
            "Model: \"sequential\"\n",
            "_________________________________________________________________\n",
            " Layer (type)                Output Shape              Param #   \n",
            "=================================================================\n",
            " dense (Dense)               (None, 28, 28, 32)        64        \n",
            "                                                                 \n",
            " conv2d (Conv2D)             (None, 26, 26, 32)        9248      \n",
            "                                                                 \n",
            " conv2d_1 (Conv2D)           (None, 24, 24, 32)        9248      \n",
            "                                                                 \n",
            " max_pooling2d (MaxPooling2D  (None, 12, 12, 32)       0         \n",
            " )                                                               \n",
            "                                                                 \n",
            " dropout (Dropout)           (None, 12, 12, 32)        0         \n",
            "                                                                 \n",
            " flatten (Flatten)           (None, 4608)              0         \n",
            "                                                                 \n",
            " dense_1 (Dense)             (None, 10)                46090     \n",
            "                                                                 \n",
            "=================================================================\n",
            "Total params: 64,650\n",
            "Trainable params: 64,650\n",
            "Non-trainable params: 0\n",
            "_________________________________________________________________\n"
          ]
        }
      ]
    },
    {
      "cell_type": "markdown",
      "source": [
        "#training the model"
      ],
      "metadata": {
        "id": "Byipdpr2kKBu"
      }
    },
    {
      "cell_type": "code",
      "source": [
        "#train the model\n",
        "\n",
        "model.fit(x_train,y_train,batch_size=32,epochs=10,verbose=1,validation_data=(x_test,y_test))"
      ],
      "metadata": {
        "id": "AncNPajZPe2t",
        "colab": {
          "base_uri": "https://localhost:8080/"
        },
        "outputId": "e82c81a1-3e9d-45df-be59-825a9d53cac4"
      },
      "execution_count": null,
      "outputs": [
        {
          "output_type": "stream",
          "name": "stdout",
          "text": [
            "Epoch 1/10\n",
            "1875/1875 [==============================] - 13s 5ms/step - loss: 0.3743 - accuracy: 0.9139 - val_loss: 0.0854 - val_accuracy: 0.9726\n",
            "Epoch 2/10\n",
            "1875/1875 [==============================] - 9s 5ms/step - loss: 0.1282 - accuracy: 0.9611 - val_loss: 0.0635 - val_accuracy: 0.9804\n",
            "Epoch 3/10\n",
            "1875/1875 [==============================] - 8s 4ms/step - loss: 0.1055 - accuracy: 0.9676 - val_loss: 0.0611 - val_accuracy: 0.9805\n",
            "Epoch 4/10\n",
            "1875/1875 [==============================] - 8s 4ms/step - loss: 0.0866 - accuracy: 0.9730 - val_loss: 0.0568 - val_accuracy: 0.9830\n",
            "Epoch 5/10\n",
            "1875/1875 [==============================] - 9s 5ms/step - loss: 0.0695 - accuracy: 0.9786 - val_loss: 0.0505 - val_accuracy: 0.9843\n",
            "Epoch 6/10\n",
            "1875/1875 [==============================] - 8s 4ms/step - loss: 0.0617 - accuracy: 0.9807 - val_loss: 0.0462 - val_accuracy: 0.9869\n",
            "Epoch 7/10\n",
            "1875/1875 [==============================] - 8s 4ms/step - loss: 0.0542 - accuracy: 0.9826 - val_loss: 0.0416 - val_accuracy: 0.9872\n",
            "Epoch 8/10\n",
            "1875/1875 [==============================] - 9s 5ms/step - loss: 0.0495 - accuracy: 0.9843 - val_loss: 0.0421 - val_accuracy: 0.9861\n",
            "Epoch 9/10\n",
            "1875/1875 [==============================] - 8s 4ms/step - loss: 0.0454 - accuracy: 0.9857 - val_loss: 0.0429 - val_accuracy: 0.9863\n",
            "Epoch 10/10\n",
            "1875/1875 [==============================] - 9s 5ms/step - loss: 0.0425 - accuracy: 0.9862 - val_loss: 0.0525 - val_accuracy: 0.9849\n"
          ]
        },
        {
          "output_type": "execute_result",
          "data": {
            "text/plain": [
              "<keras.callbacks.History at 0x7f4b58cba3b0>"
            ]
          },
          "metadata": {},
          "execution_count": 29
        }
      ]
    },
    {
      "cell_type": "markdown",
      "source": [
        "## **Finding the accuracy**"
      ],
      "metadata": {
        "id": "SLRIhX3Tj5sl"
      }
    },
    {
      "cell_type": "code",
      "source": [
        "val_loss,val_acc=model.evaluate(x_test,y_test)\n",
        "print(val_loss*100)\n",
        "print(val_acc*100)"
      ],
      "metadata": {
        "colab": {
          "base_uri": "https://localhost:8080/"
        },
        "id": "nBisE758TX4b",
        "outputId": "3e935010-39b3-4881-acf2-aaa8343c7629"
      },
      "execution_count": null,
      "outputs": [
        {
          "output_type": "stream",
          "name": "stdout",
          "text": [
            "313/313 [==============================] - 1s 3ms/step - loss: 0.0525 - accuracy: 0.9849\n",
            "5.248664692044258\n",
            "98.48999977111816\n"
          ]
        }
      ]
    },
    {
      "cell_type": "code",
      "source": [],
      "metadata": {
        "id": "7wqM26sabDW1"
      },
      "execution_count": null,
      "outputs": []
    },
    {
      "cell_type": "code",
      "source": [],
      "metadata": {
        "id": "L0JjNBlwbDPV"
      },
      "execution_count": null,
      "outputs": []
    },
    {
      "cell_type": "markdown",
      "source": [
        "# deploying the model"
      ],
      "metadata": {
        "id": "ZwwSpemBWM6J"
      }
    },
    {
      "cell_type": "code",
      "source": [
        "import cv2\n",
        "import numpy as np\n",
        "def numguess(a):\n",
        "  I=cv2.imread(a)\n",
        "  plt.imshow(I)\n",
        "  re=cv2.resize(I,(28,28))\n",
        "  grey=cv2.cvtColor(re,cv2.COLOR_BGR2GRAY)\n",
        "  k=grey.reshape(1,28,28,1)\n",
        "  return k\n",
        "\n",
        "while(True):\n",
        "  print(\"enter 1 to predict num in the image \\n enter 0 to exit\")\n",
        "  k=input(\"\")\n",
        "  if k=='1':\n",
        "    image=str(input(\"enter the image path:\"))\n",
        "    print(\"\\n\")\n",
        "    k=numguess(image)\n",
        "    y=model.predict([k])\n",
        "    print(\"the number in the image is\",np.argmax(y))\n",
        "  elif k=='0':\n",
        "    break\n",
        "  else:\n",
        "    print(\"invalid input\\n\")"
      ],
      "metadata": {
        "id": "Zaui6JRGUGbv",
        "colab": {
          "base_uri": "https://localhost:8080/",
          "height": 625
        },
        "outputId": "e82a0cac-47e7-4980-9221-98241c25de6b"
      },
      "execution_count": null,
      "outputs": [
        {
          "name": "stdout",
          "output_type": "stream",
          "text": [
            "enter 1 to predict num in the image \n",
            " enter 0 to exit\n",
            "1\n",
            "enter the image path:/content/number1.jpeg\n",
            "\n",
            "\n",
            "1/1 [==============================] - 0s 19ms/step\n",
            "the number in the image is 4\n",
            "enter 1 to predict num in the image \n",
            " enter 0 to exit\n",
            "0\n"
          ]
        },
        {
          "output_type": "display_data",
          "data": {
            "text/plain": [
              "<Figure size 640x480 with 1 Axes>"
            ],
            "image/png": "[encoded data removed]"
          },
          "metadata": {}
        }
      ]
    },
    {
      "cell_type": "markdown",
      "source": [],
      "metadata": {
        "id": "-1eqiAcbWBix"
      }
    },
    {
      "cell_type": "markdown",
      "source": [],
      "metadata": {
        "id": "yvu60oW9WBVz"
      }
    },
    {
      "cell_type": "code",
      "source": [],
      "metadata": {
        "id": "sONJMgtTZEwq"
      },
      "execution_count": null,
      "outputs": []
    },
    {
      "cell_type": "markdown",
      "source": [],
      "metadata": {
        "id": "aHm3tCc1qv0W"
      }
    },
    {
      "cell_type": "markdown",
      "source": [],
      "metadata": {
        "id": "f2ruVRlpqvxI"
      }
    },
    {
      "cell_type": "markdown",
      "source": [],
      "metadata": {
        "id": "F0LQdqauqvuS"
      }
    },
    {
      "cell_type": "markdown",
      "source": [],
      "metadata": {
        "id": "ONgCefm9qvrM"
      }
    },
    {
      "cell_type": "markdown",
      "source": [],
      "metadata": {
        "id": "eU2vFiJiqvoQ"
      }
    },
    {
      "cell_type": "markdown",
      "source": [
        "\n",
        "\n",
        "## Input layer  ---> convolution layer 1  --->  convulation layer 2  ---> pooling layer  --->  Dropout layer  --->  Flatten layer  --->  output layer(softmax)\n",
        "\n",
        "\n",
        "\n"
      ],
      "metadata": {
        "id": "3Gv23mRDqvlG"
      }
    },
    {
      "cell_type": "code",
      "source": [],
      "metadata": {
        "id": "JPUbF0TCqxJo"
      },
      "execution_count": null,
      "outputs": []
    }
  ]
}